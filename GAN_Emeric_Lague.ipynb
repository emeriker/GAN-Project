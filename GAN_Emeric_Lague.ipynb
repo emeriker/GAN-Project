{
 "cells": [
  {
   "cell_type": "markdown",
   "id": "a0dd2c10",
   "metadata": {},
   "source": [
    "# Imports"
   ]
  },
  {
   "cell_type": "code",
   "execution_count": 280,
   "id": "9f667499",
   "metadata": {},
   "outputs": [
    {
     "name": "stdout",
     "output_type": "stream",
     "text": [
      "Populating the interactive namespace from numpy and matplotlib\n"
     ]
    }
   ],
   "source": [
    "import os\n",
    "import numpy as np\n",
    "import imghdr\n",
    "from PIL import Image\n",
    "import imageio\n",
    "\n",
    "%pylab inline\n",
    "import matplotlib.pyplot as plt\n",
    "import matplotlib.image as mpimg\n",
    "from IPython import display\n",
    "\n",
    "#Tensorflow version 2.7.0\n",
    "import tensorflow as tf"
   ]
  },
  {
   "cell_type": "markdown",
   "id": "4f35e0fd",
   "metadata": {},
   "source": [
    "# Tensorflow check"
   ]
  },
  {
   "cell_type": "code",
   "execution_count": 281,
   "id": "51e97a7e",
   "metadata": {},
   "outputs": [
    {
     "name": "stdout",
     "output_type": "stream",
     "text": [
      "GPU list  [PhysicalDevice(name='/physical_device:GPU:0', device_type='GPU')]\n",
      "Tensorflow verison : 2.7.0\n"
     ]
    }
   ],
   "source": [
    "print('GPU list ', tf.config.list_physical_devices('GPU'))\n",
    "print('Tensorflow verison :', tf.__version__)"
   ]
  },
  {
   "cell_type": "markdown",
   "id": "dbb02d89",
   "metadata": {},
   "source": [
    "# JPEG files errors drop"
   ]
  },
  {
   "cell_type": "code",
   "execution_count": 282,
   "id": "1903cc15",
   "metadata": {},
   "outputs": [],
   "source": [
    "\n",
    "def DropErroredFiles(images_path):\n",
    "    images = os.listdir(dog_data_dir)\n",
    "\n",
    "    i = 0\n",
    "    for image in images:\n",
    "        image = os.path.join(dog_data_dir, image)\n",
    "        if not imghdr.what(image) == \"jpeg\":\n",
    "            #os.remove(image)\n",
    "            i+=1\n",
    "    print(i)"
   ]
  },
  {
   "cell_type": "markdown",
   "id": "5ba9aa62",
   "metadata": {},
   "source": [
    "# Data load"
   ]
  },
  {
   "cell_type": "code",
   "execution_count": 283,
   "id": "eed6d392",
   "metadata": {},
   "outputs": [],
   "source": [
    "def LoadImageDataSet(data_dir, x_pixel, y_pixel):\n",
    "    train_data = tf.keras.utils.image_dataset_from_directory(\n",
    "        data_dir,\n",
    "        validation_split=0.2,\n",
    "        subset=\"training\",\n",
    "        seed = 123,\n",
    "        image_size=(x_pixel, y_pixel))\n",
    "    \n",
    "    val_data = tf.keras.utils.image_dataset_from_directory(\n",
    "        data_dir,\n",
    "        validation_split=0.2,\n",
    "        subset=\"validation\",\n",
    "        seed = 123,\n",
    "        image_size=(x_pixel, y_pixel))\n",
    "    \n",
    "    return train_data, val_data\n",
    "\n",
    "#images_dir = os.path.realpath(\"C:/Users/emeri/data/DogImages\")\n",
    "#train_data, val_data = LoadImageDataSet(images_dir, 32, 32)"
   ]
  },
  {
   "cell_type": "markdown",
   "id": "7fd4121e",
   "metadata": {},
   "source": [
    "# Data Infos"
   ]
  },
  {
   "cell_type": "code",
   "execution_count": 284,
   "id": "89ef0dab",
   "metadata": {},
   "outputs": [],
   "source": [
    "def PrintDataInfo(data):\n",
    "    for image_batch, labels_batch in data.take(1):\n",
    "        print('Batch shape :', image_batch.shape)\n",
    "        print('Batch label shape :', labels_batch.shape)\n",
    "\n",
    "    print('Class names :', train_data.class_names)\n",
    "\n",
    "#PrintDataInfo(train_data)"
   ]
  },
  {
   "cell_type": "markdown",
   "id": "7ff5d019",
   "metadata": {},
   "source": [
    "# Data samples image display"
   ]
  },
  {
   "cell_type": "code",
   "execution_count": 285,
   "id": "3b3333a3",
   "metadata": {},
   "outputs": [],
   "source": [
    "def DisplayDataSample(data):\n",
    "    class_names = data.class_names\n",
    "\n",
    "    for image_batch, labels_batch in data.take(1):\n",
    "        plt.figure(figsize=(10, 10))\n",
    "        for i in range(9):\n",
    "            ax = plt.subplot(3, 3, i + 1)\n",
    "            print(image_batch[i].dtype)\n",
    "            plt.imshow(image_batch[i].numpy().astype(\"uint8\"))\n",
    "            plt.title(class_names[labels_batch[i]])\n",
    "            plt.axis(\"off\")\n",
    "\n",
    "#DisplayDataSample(train_data)"
   ]
  },
  {
   "cell_type": "code",
   "execution_count": 286,
   "id": "5c94195a",
   "metadata": {},
   "outputs": [],
   "source": [
    "def DisplayDataSampleGenerator(data):\n",
    "    plt.figure(figsize=(10, 10))\n",
    "    typeData = data.dtype\n",
    "    print(typeData)\n",
    "    i = 0\n",
    "    for image_batch in data:\n",
    "        if i == 4:\n",
    "            break\n",
    "\n",
    "        ax = plt.subplot(2, 2, i + 1)\n",
    "        if (np.max(image_batch.numpy()) > 150):\n",
    "            plt.imshow(image_batch.numpy().astype(np.float64)/255)\n",
    "        else:\n",
    "            plt.imshow(image_batch.numpy().astype(np.float64))\n",
    "        plt.title('Generated image')\n",
    "        plt.axis(\"off\")\n",
    "        \n",
    "        i+=1\n",
    "    plt.show()\n",
    "        "
   ]
  },
  {
   "cell_type": "markdown",
   "id": "5224fc28",
   "metadata": {},
   "source": [
    "# Random noise generator"
   ]
  },
  {
   "cell_type": "code",
   "execution_count": 287,
   "id": "be6be333",
   "metadata": {},
   "outputs": [],
   "source": [
    "def CreateBatchNoiseInput(nbr_samples, x, y):\n",
    "    #randNumpyImages = np.random.randint(256,size=(nbr_samples,128,128,3)).astype(np.uint8)\n",
    "\n",
    "    #noise = tf.data.Dataset.from_tensor_slices(randNumpyImages).batch(nbr_samples)\n",
    "    noise = tf.random.normal([nbr_samples,x,y,3])\n",
    "    return noise\n",
    "\n",
    "#CreateBatchNoiseInput(10)"
   ]
  },
  {
   "cell_type": "markdown",
   "id": "cddc12ab",
   "metadata": {},
   "source": [
    "# Model (Generator)"
   ]
  },
  {
   "cell_type": "code",
   "execution_count": 288,
   "id": "20794568",
   "metadata": {},
   "outputs": [
    {
     "data": {
      "image/png": "[encoded data removed]",
      "text/plain": [
       "<IPython.core.display.Image object>"
      ]
     },
     "execution_count": 288,
     "metadata": {},
     "output_type": "execute_result"
    }
   ],
   "source": [
    "def GetModelGenerator(x, y):\n",
    "    input = tf.keras.Input(shape=(x, y, 3), name='imput_layer')#128,128,3))\n",
    "    flat = tf.keras.layers.Flatten()(input)\n",
    "    layernorm = tf.keras.layers.BatchNormalization()(flat)\n",
    "    reshape = tf.keras.layers.Reshape((x, y, 3))(layernorm)\n",
    "\n",
    "    layer1 = tf.keras.layers.Conv2D(filters = 32, padding='same', kernel_size=3, activation='relu', name='layer1')(reshape)\n",
    "    layer2 = tf.keras.layers.Conv2D(filters = 32, padding='same', kernel_size=3, activation='relu', name='layer2')(layer1)\n",
    "    #layer3 = tf.keras.layers.Add()([layer1,layer2])\n",
    "    layer4 = tf.keras.layers.Conv2D(filters = 32, padding='same', kernel_size=3, activation='relu', name='layer4')(layer2)\n",
    "    layer5 = tf.keras.layers.Conv2D(filters = 32, padding='same', kernel_size=3, activation='relu', name='layer5')(layer4)\n",
    "    #layer6 = tf.keras.layers.Add()([layer4,layer5])\n",
    "    layerOutput = tf.keras.layers.Conv2D(filters = 3, padding='same', kernel_size=3, activation='sigmoid', name='layerOut')(layer5)\n",
    "    model = tf.keras.Model(inputs=[input], outputs=[layerOutput])\n",
    "    \n",
    "    return model\n",
    "\n",
    "tf.keras.utils.plot_model(GetModelGenerator(10,10), show_shapes=True)"
   ]
  },
  {
   "cell_type": "code",
   "execution_count": 289,
   "id": "6ef06cc7",
   "metadata": {},
   "outputs": [
    {
     "data": {
      "text/plain": [
       "\"def GetModelGenerator(x, y):\\n    model = tf.keras.Sequential()\\n    model.add(tf.keras.layers.Dense(7*7*256, use_bias=False, input_shape=(100,)))\\n    model.add(tf.keras.layers.BatchNormalization())\\n    model.add(tf.keras.layers.LeakyReLU())\\n\\n    model.add(tf.keras.layers.Reshape((7, 7, 256)))\\n    assert model.output_shape == (None, 7, 7, 256)  # Note: None is the batch size\\n\\n    model.add(tf.keras.layers.Conv2DTranspose(128, (5, 5), strides=(1, 1), padding='same', use_bias=False))\\n    assert model.output_shape == (None, 7, 7, 128)\\n    model.add(tf.keras.layers.BatchNormalization())\\n    model.add(tf.keras.layers.LeakyReLU())\\n\\n    model.add(tf.keras.layers.Conv2DTranspose(64, (5, 5), strides=(2, 2), padding='same', use_bias=False))\\n    assert model.output_shape == (None, 14, 14, 64)\\n    model.add(tf.keras.layers.BatchNormalization())\\n    model.add(tf.keras.layers.LeakyReLU())\\n\\n    model.add(tf.keras.layers.Conv2DTranspose(1, (5, 5), strides=(2, 2), padding='same', use_bias=False, activation='tanh'))\\n    assert model.output_shape == (None, 28, 28, 1)\\n\\n    return model\\ntf.keras.utils.plot_model(GetModelGenerator(28,28), show_shapes=True)\\n\""
      ]
     },
     "execution_count": 289,
     "metadata": {},
     "output_type": "execute_result"
    }
   ],
   "source": [
    "#V2\n",
    "\"\"\"def GetModelGenerator(x, y):\n",
    "    model = tf.keras.Sequential()\n",
    "    model.add(tf.keras.layers.Dense(7*7*256, use_bias=False, input_shape=(100,)))\n",
    "    model.add(tf.keras.layers.BatchNormalization())\n",
    "    model.add(tf.keras.layers.LeakyReLU())\n",
    "\n",
    "    model.add(tf.keras.layers.Reshape((7, 7, 256)))\n",
    "    assert model.output_shape == (None, 7, 7, 256)  # Note: None is the batch size\n",
    "\n",
    "    model.add(tf.keras.layers.Conv2DTranspose(128, (5, 5), strides=(1, 1), padding='same', use_bias=False))\n",
    "    assert model.output_shape == (None, 7, 7, 128)\n",
    "    model.add(tf.keras.layers.BatchNormalization())\n",
    "    model.add(tf.keras.layers.LeakyReLU())\n",
    "\n",
    "    model.add(tf.keras.layers.Conv2DTranspose(64, (5, 5), strides=(2, 2), padding='same', use_bias=False))\n",
    "    assert model.output_shape == (None, 14, 14, 64)\n",
    "    model.add(tf.keras.layers.BatchNormalization())\n",
    "    model.add(tf.keras.layers.LeakyReLU())\n",
    "\n",
    "    model.add(tf.keras.layers.Conv2DTranspose(1, (5, 5), strides=(2, 2), padding='same', use_bias=False, activation='tanh'))\n",
    "    assert model.output_shape == (None, 28, 28, 1)\n",
    "\n",
    "    return model\n",
    "tf.keras.utils.plot_model(GetModelGenerator(28,28), show_shapes=True)\n",
    "\"\"\""
   ]
  },
  {
   "cell_type": "code",
   "execution_count": 290,
   "id": "f3bd96fe",
   "metadata": {},
   "outputs": [
    {
     "data": {
      "text/plain": [
       "TensorShape([32, 32, 32, 3])"
      ]
     },
     "execution_count": 290,
     "metadata": {},
     "output_type": "execute_result"
    }
   ],
   "source": [
    "generatorTest = GetModelGenerator(32, 32)\n",
    "noise = CreateBatchNoiseInput(32, 32, 32)\n",
    "generated_images = generatorTest(noise, training=True)\n",
    "generated_images.shape"
   ]
  },
  {
   "cell_type": "markdown",
   "id": "648338bf",
   "metadata": {},
   "source": [
    "# Model (Discriminator)"
   ]
  },
  {
   "cell_type": "code",
   "execution_count": 291,
   "id": "dcc30182",
   "metadata": {},
   "outputs": [
    {
     "data": {
      "image/png": "[encoded data removed]",
      "text/plain": [
       "<IPython.core.display.Image object>"
      ]
     },
     "execution_count": 291,
     "metadata": {},
     "output_type": "execute_result"
    }
   ],
   "source": [
    "def GetModelDiscriminator(x, y):\n",
    "    input = tf.keras.Input(shape=(x,y,3), name='imput_layer')\n",
    "\n",
    "    layer1 = tf.keras.layers.Conv2D(filters = 32, padding='same', kernel_size=3, activation='relu', name='layer1')(input)\n",
    "    layer2 = tf.keras.layers.Conv2D(filters = 32, padding='same', kernel_size=3, activation='relu', name='layer2')(layer1)\n",
    "    layer3 = tf.keras.layers.Add()([layer1,layer2])\n",
    "    layer4 = tf.keras.layers.Conv2D(filters = 32, padding='same', kernel_size=3, activation='relu', name='layer4')(layer3)\n",
    "    layer5 = tf.keras.layers.Conv2D(filters = 32, padding='same', kernel_size=3, activation='relu', name='layer5')(layer4)\n",
    "    layer6 = tf.keras.layers.Add()([layer4,layer5])\n",
    "    layer7 = tf.keras.layers.Add()([layer1,layer6])\n",
    "    pool = tf.keras.layers.GlobalAveragePooling2D()(layer7)\n",
    "    layer_fc = tf.keras.layers.Dense(16, activation='relu')(pool)\n",
    "    output = tf.keras.layers.Dense(1, activation='sigmoid')(layer_fc)\n",
    "\n",
    "    model = tf.keras.Model(inputs=[input], outputs=[output])\n",
    "    \n",
    "    return model\n",
    "\n",
    "tf.keras.utils.plot_model(GetModelDiscriminator(10,10), show_shapes=True)"
   ]
  },
  {
   "cell_type": "markdown",
   "id": "11e5fcf1",
   "metadata": {},
   "source": [
    "# Credit (**) https://www.tensorflow.org/tutorials/generative/dcgan#define_the_loss_and_optimizers"
   ]
  },
  {
   "cell_type": "markdown",
   "id": "140b059f",
   "metadata": {},
   "source": [
    "# ** Discriminator Loss Function"
   ]
  },
  {
   "cell_type": "code",
   "execution_count": 309,
   "id": "0f4d9c00",
   "metadata": {},
   "outputs": [],
   "source": [
    "def discriminator_loss(cross_entropy, real_output, fake_output):\n",
    "    real_loss = cross_entropy(tf.ones_like(real_output), real_output)\n",
    "    fake_loss = cross_entropy(tf.zeros_like(fake_output), fake_output)\n",
    "    total_loss = real_loss + fake_loss\n",
    "    return total_loss"
   ]
  },
  {
   "cell_type": "markdown",
   "id": "78507760",
   "metadata": {},
   "source": [
    "# ** Generator Loss Function"
   ]
  },
  {
   "cell_type": "code",
   "execution_count": 310,
   "id": "01ce7cb6",
   "metadata": {},
   "outputs": [],
   "source": [
    "def generator_loss(cross_entropy, fake_output):\n",
    "    return cross_entropy(tf.ones_like(fake_output), fake_output)"
   ]
  },
  {
   "cell_type": "markdown",
   "id": "bdfa88db",
   "metadata": {},
   "source": [
    "# ** Train Step Function"
   ]
  },
  {
   "cell_type": "code",
   "execution_count": 311,
   "id": "e41b273b",
   "metadata": {},
   "outputs": [],
   "source": [
    "# Notice the use of `tf.function`\n",
    "# This annotation causes the function to be \"compiled\".\n",
    "@tf.function\n",
    "def train_step(generator, generator_loss, generator_optimizer, discriminator, discriminator_loss, discriminator_optimizer, cross_entropy, images, batch_size, x_pixels, y_pixels):\n",
    "    noise = CreateBatchNoiseInput(batch_size, x_pixels, y_pixels)#tf.random.normal([BATCH_SIZE, noise_dim])\n",
    "\n",
    "    with tf.GradientTape() as gen_tape, tf.GradientTape() as disc_tape:\n",
    "        \n",
    "        generated_images = generator(noise, training=True)\n",
    "        generated_images = generated_images*255\n",
    "        \n",
    "        real_output = discriminator(images, training=True)\n",
    "        fake_output = discriminator(generated_images, training=True)\n",
    "\n",
    "        gen_loss = generator_loss(cross_entropy, fake_output)\n",
    "        disc_loss = discriminator_loss(cross_entropy, real_output, fake_output)\n",
    "\n",
    "    gradients_of_generator = gen_tape.gradient(gen_loss, generator.trainable_variables)\n",
    "    gradients_of_discriminator = disc_tape.gradient(disc_loss, discriminator.trainable_variables)\n",
    "\n",
    "    generator_optimizer.apply_gradients(zip(gradients_of_generator, generator.trainable_variables))\n",
    "    discriminator_optimizer.apply_gradients(zip(gradients_of_discriminator, discriminator.trainable_variables))"
   ]
  },
  {
   "cell_type": "markdown",
   "id": "00609120",
   "metadata": {},
   "source": [
    "# ** Train Function"
   ]
  },
  {
   "cell_type": "code",
   "execution_count": 312,
   "id": "ccc792dc",
   "metadata": {},
   "outputs": [],
   "source": [
    "def train(generator, generator_loss, discriminator, discriminator_loss, dataset, epochs, batch_size, x_pixels, y_pixels):\n",
    "\n",
    "    cross_entropy = tf.keras.losses.BinaryCrossentropy(from_logits=True)\n",
    "    generator_optimizer = tf.keras.optimizers.Adam(1e-4)\n",
    "    discriminator_optimizer = tf.keras.optimizers.Adam(1e-4)\n",
    "    \n",
    "    for epoch in range(epochs):\n",
    "        start = time.time()\n",
    "        \n",
    "        for image_batch, label_batch in dataset:\n",
    "            train_step(generator, generator_loss, generator_optimizer, discriminator, discriminator_loss, discriminator_optimizer, cross_entropy, image_batch, batch_size, x_pixels, y_pixels)\n",
    "\n",
    "        # Produce images for the GIF as you go\n",
    "        display.clear_output(wait=True)\n",
    "\n",
    "        noise = CreateBatchNoiseInput(200, x_pixels, y_pixels)\n",
    "        generated_images = generator(noise, training=False)\n",
    "        generated_images = generated_images*255\n",
    "        DisplayDataSampleGenerator(generated_images)\n",
    "        \n",
    "        generated_images = generator(noise, training=False)\n",
    "        generated_images = generated_images*255\n",
    "        fake_output = discriminator(generated_images, training=False)\n",
    "        \n",
    "        gen_loss = generator_loss(cross_entropy, fake_output)\n",
    "\n",
    "        print('-----> Loss generator :', gen_loss)\n",
    "        \n",
    "        noise2 = CreateBatchNoiseInput(10, x_pixels, y_pixels)\n",
    "        generated_images2 = generator(noise2, training=False)\n",
    "        generated_images2 = generated_images2*255\n",
    "        fake_output2 = discriminator(generated_images2, training=False)\n",
    "        print('-----> 10 Fake disc pred : ', fake_output2)\n",
    "\n",
    "        # Save the model every 15 epochs\n",
    "        #if (epoch + 1) % 15 == 0:\n",
    "        #    checkpoint.save(file_prefix = checkpoint_prefix)\n",
    "\n",
    "        print ('Time for epoch {} is {} sec'.format(epoch + 1, time.time()-start))\n",
    "\n",
    "    return generator, discriminator\n",
    "\n",
    "    # Generate after the final epoch\n",
    "    #display.clear_output(wait=True)\n",
    "    #generate_and_save_images(generator, epochs, seed)"
   ]
  },
  {
   "cell_type": "markdown",
   "id": "32c28993",
   "metadata": {},
   "source": [
    "# Workflow"
   ]
  },
  {
   "cell_type": "code",
   "execution_count": 313,
   "id": "8f1df687",
   "metadata": {},
   "outputs": [
    {
     "name": "stdout",
     "output_type": "stream",
     "text": [
      "<dtype: 'float32'>\n"
     ]
    },
    {
     "data": {
      "image/png": "[encoded data removed]",
      "text/plain": [
       "<Figure size 720x720 with 4 Axes>"
      ]
     },
     "metadata": {
      "needs_background": "light"
     },
     "output_type": "display_data"
    },
    {
     "name": "stdout",
     "output_type": "stream",
     "text": [
      "-----> Loss generator : tf.Tensor(33.61114, shape=(), dtype=float32)\n",
      "-----> 10 Fake disc pred :  tf.Tensor(\n",
      "[[2.4515512e-15]\n",
      " [2.4398608e-15]\n",
      " [2.4685742e-15]\n",
      " [2.4541615e-15]\n",
      " [2.4388094e-15]\n",
      " [2.4655719e-15]\n",
      " [2.4267820e-15]\n",
      " [2.4620476e-15]\n",
      " [2.4740987e-15]\n",
      " [2.4669079e-15]], shape=(10, 1), dtype=float32)\n",
      "Time for epoch 5000 is 5.85668420791626 sec\n"
     ]
    }
   ],
   "source": [
    "def Workflow():\n",
    "    EPOCHS = 5000\n",
    "    noise_dim = 1000\n",
    "    num_examples_to_generate = 16\n",
    "    seed = 2022\n",
    "    BATCH_SIZE = 32\n",
    "\n",
    "    x_pixels = 32\n",
    "    y_pixels = 32\n",
    "    \n",
    "    #Root images path\n",
    "    images_dir = os.path.realpath(\"C:/Users/emeri/data/DogImages\")\n",
    "    #images_dir = os.path.realpath(\"C:/Users/emeri/data/HandWriting\")\n",
    "\n",
    "    #Load Images\n",
    "    train_dog_images, val_dog_images = LoadImageDataSet(images_dir, x_pixels, y_pixels)\n",
    "\n",
    "    #Model Discriminator\n",
    "    model_disc = GetModelDiscriminator(x_pixels, y_pixels)\n",
    "\n",
    "    #Model Generator\n",
    "    model_gen = GetModelGenerator(x_pixels, y_pixels)\n",
    "\n",
    "    #Train\n",
    "    model_gen, model_disc = train(\n",
    "        model_gen,\n",
    "        generator_loss,\n",
    "        model_disc,\n",
    "        discriminator_loss,\n",
    "        train_dog_images,\n",
    "        EPOCHS, BATCH_SIZE, \n",
    "        x_pixels,\n",
    "        y_pixels)\n",
    "    \n",
    "    return model_gen, model_disc\n",
    "    \n",
    "model_gen, model_disc = Workflow()"
   ]
  },
  {
   "cell_type": "code",
   "execution_count": 266,
   "id": "4275d5d6",
   "metadata": {},
   "outputs": [],
   "source": [
    "def generate_and_save_images(model, epoch, test_input):\n",
    "    # Notice `training` is set to False.\n",
    "    # This is so all layers run in inference mode (batchnorm).\n",
    "    predictions = model(test_input, training=False)\n",
    "\n",
    "    fig = plt.figure(figsize=(4, 4))\n",
    "\n",
    "    for i in range(4):\n",
    "        plt.subplot(2, 2, i+1)\n",
    "        plt.imshow(predictions[i, :, :, 0] * 127.5 + 127.5, cmap='gray')\n",
    "        plt.axis('off')\n",
    "\n",
    "    plt.savefig('image_at_epoch_{:04d}.png'.format(epoch))\n",
    "    plt.show()\n"
   ]
  },
  {
   "cell_type": "code",
   "execution_count": null,
   "id": "b2ce611e",
   "metadata": {},
   "outputs": [],
   "source": []
  },
  {
   "cell_type": "code",
   "execution_count": null,
   "id": "16c00ae0",
   "metadata": {},
   "outputs": [],
   "source": [
    "\n"
   ]
  },
  {
   "cell_type": "code",
   "execution_count": null,
   "id": "6881f602",
   "metadata": {},
   "outputs": [],
   "source": []
  },
  {
   "cell_type": "code",
   "execution_count": null,
   "id": "45655e06",
   "metadata": {},
   "outputs": [],
   "source": []
  },
  {
   "cell_type": "code",
   "execution_count": 184,
   "id": "563525c3",
   "metadata": {},
   "outputs": [
    {
     "ename": "TypeError",
     "evalue": "CreateBatchNoiseInput() missing 2 required positional arguments: 'x' and 'y'",
     "output_type": "error",
     "traceback": [
      "\u001b[1;31m---------------------------------------------------------------------------\u001b[0m",
      "\u001b[1;31mTypeError\u001b[0m                                 Traceback (most recent call last)",
      "\u001b[1;32m~\\AppData\\Local\\Temp/ipykernel_3224/3763313422.py\u001b[0m in \u001b[0;36m<module>\u001b[1;34m\u001b[0m\n\u001b[1;32m----> 1\u001b[1;33m \u001b[0mnoise\u001b[0m \u001b[1;33m=\u001b[0m \u001b[0mCreateBatchNoiseInput\u001b[0m\u001b[1;33m(\u001b[0m\u001b[1;36m4\u001b[0m\u001b[1;33m)\u001b[0m\u001b[1;33m\u001b[0m\u001b[1;33m\u001b[0m\u001b[0m\n\u001b[0m\u001b[0;32m      2\u001b[0m \u001b[0mgenerated_images\u001b[0m \u001b[1;33m=\u001b[0m \u001b[0mmodel_gen\u001b[0m\u001b[1;33m(\u001b[0m\u001b[0mnoise\u001b[0m\u001b[1;33m,\u001b[0m \u001b[0mtraining\u001b[0m\u001b[1;33m=\u001b[0m\u001b[1;32mFalse\u001b[0m\u001b[1;33m)\u001b[0m\u001b[1;33m\u001b[0m\u001b[1;33m\u001b[0m\u001b[0m\n\u001b[0;32m      3\u001b[0m \u001b[0mgenerated_images\u001b[0m\u001b[1;33m.\u001b[0m\u001b[0mshape\u001b[0m\u001b[1;33m\u001b[0m\u001b[1;33m\u001b[0m\u001b[0m\n\u001b[0;32m      4\u001b[0m \u001b[0mDisplayDataSampleGenerator\u001b[0m\u001b[1;33m(\u001b[0m\u001b[0mgenerated_images\u001b[0m\u001b[1;33m)\u001b[0m\u001b[1;33m\u001b[0m\u001b[1;33m\u001b[0m\u001b[0m\n",
      "\u001b[1;31mTypeError\u001b[0m: CreateBatchNoiseInput() missing 2 required positional arguments: 'x' and 'y'"
     ]
    }
   ],
   "source": [
    "noise = CreateBatchNoiseInput(4)\n",
    "generated_images = model_gen(noise, training=False)\n",
    "generated_images.shape\n",
    "DisplayDataSampleGenerator(generated_images)"
   ]
  },
  {
   "cell_type": "code",
   "execution_count": 267,
   "id": "6ed031f2",
   "metadata": {},
   "outputs": [
    {
     "name": "stdout",
     "output_type": "stream",
     "text": [
      "Found 28000 files belonging to 1 classes.\n",
      "Using 22400 files for training.\n",
      "Found 28000 files belonging to 1 classes.\n",
      "Using 5600 files for validation.\n"
     ]
    }
   ],
   "source": [
    "images_dir = os.path.realpath(\"C:/Users/emeri/data/HandWriting\")\n",
    "train_data, val_data = LoadImageDataSet(images_dir, 32, 32)"
   ]
  },
  {
   "cell_type": "code",
   "execution_count": 272,
   "id": "3b5cf151",
   "metadata": {},
   "outputs": [],
   "source": [
    "test = None\n",
    "for val_data, labels_batch in train_data.take(1):\n",
    "    test = model_disc(image_batch, training=False)"
   ]
  },
  {
   "cell_type": "code",
   "execution_count": 273,
   "id": "45597ad5",
   "metadata": {},
   "outputs": [
    {
     "data": {
      "text/plain": [
       "<tf.Tensor: shape=(32, 1), dtype=float32, numpy=\n",
       "array([[1.        ],\n",
       "       [1.        ],\n",
       "       [1.        ],\n",
       "       [1.        ],\n",
       "       [1.        ],\n",
       "       [1.        ],\n",
       "       [1.        ],\n",
       "       [1.        ],\n",
       "       [0.9999999 ],\n",
       "       [0.9999999 ],\n",
       "       [1.        ],\n",
       "       [1.        ],\n",
       "       [1.        ],\n",
       "       [0.99999833],\n",
       "       [1.        ],\n",
       "       [1.        ],\n",
       "       [1.        ],\n",
       "       [1.        ],\n",
       "       [1.        ],\n",
       "       [1.        ],\n",
       "       [1.        ],\n",
       "       [1.        ],\n",
       "       [1.        ],\n",
       "       [1.        ],\n",
       "       [1.        ],\n",
       "       [1.        ],\n",
       "       [1.        ],\n",
       "       [1.        ],\n",
       "       [1.        ],\n",
       "       [1.        ],\n",
       "       [1.        ],\n",
       "       [1.        ]], dtype=float32)>"
      ]
     },
     "execution_count": 273,
     "metadata": {},
     "output_type": "execute_result"
    }
   ],
   "source": [
    "test"
   ]
  },
  {
   "cell_type": "code",
   "execution_count": 274,
   "id": "32cff2cf",
   "metadata": {},
   "outputs": [],
   "source": [
    "noise2 = CreateBatchNoiseInput(10, 32, 32)"
   ]
  },
  {
   "cell_type": "code",
   "execution_count": 275,
   "id": "e67a6d87",
   "metadata": {},
   "outputs": [
    {
     "data": {
      "text/plain": [
       "<tf.Tensor: shape=(10, 32, 32, 3), dtype=float32, numpy=\n",
       "array([[[[ 6.00633681e-01,  1.00742662e+00,  2.67208248e-01],\n",
       "         [ 9.26486611e-01, -1.19923210e+00, -8.14579785e-01],\n",
       "         [ 2.30967402e+00, -4.76373494e-01,  8.20691764e-01],\n",
       "         ...,\n",
       "         [-3.20238292e-01, -1.17219472e+00,  4.04601514e-01],\n",
       "         [ 6.33313239e-01, -1.41049087e+00, -1.43585324e-01],\n",
       "         [ 5.93681991e-01,  6.03566878e-02,  3.68165970e-01]],\n",
       "\n",
       "        [[ 4.17398572e-01, -1.56035733e+00, -6.98811591e-01],\n",
       "         [-1.21935809e+00, -1.36927271e+00, -1.58004820e+00],\n",
       "         [-1.31092942e+00,  8.18082511e-01,  7.55344570e-01],\n",
       "         ...,\n",
       "         [-8.04234982e-01,  5.18600643e-01,  1.55661988e+00],\n",
       "         [-1.79794884e+00, -3.43861371e-01, -1.34996283e+00],\n",
       "         [-2.59012508e+00, -3.99378896e-01,  5.70237100e-01]],\n",
       "\n",
       "        [[-7.59667382e-02, -4.11370128e-01,  8.55538368e-01],\n",
       "         [ 1.88985741e+00, -1.06026447e+00,  6.14201605e-01],\n",
       "         [-2.94410795e-01, -1.42769611e+00, -1.60600930e-01],\n",
       "         ...,\n",
       "         [-2.50991255e-01,  1.19239457e-01, -5.18495202e-01],\n",
       "         [ 1.22717798e+00, -4.64137346e-01, -4.28552419e-01],\n",
       "         [ 1.31744611e+00, -2.62725472e-01, -9.46551204e-01]],\n",
       "\n",
       "        ...,\n",
       "\n",
       "        [[-1.82374668e+00, -1.53118658e+00,  1.51148367e+00],\n",
       "         [-1.39845479e+00, -4.34101164e-01,  1.02041972e+00],\n",
       "         [-9.36299741e-01,  2.00587660e-01,  3.45181912e-01],\n",
       "         ...,\n",
       "         [-9.04194415e-02,  2.02171183e+00,  2.82115817e-01],\n",
       "         [-5.93407333e-01, -6.22483850e-01, -7.01140583e-01],\n",
       "         [ 1.00704479e+00,  1.23898995e+00,  6.25091255e-01]],\n",
       "\n",
       "        [[ 3.27047408e-01, -1.66107762e+00,  2.74652511e-01],\n",
       "         [ 1.05909097e+00,  9.07575846e-01,  1.29430115e+00],\n",
       "         [-1.50281921e-01,  2.69070089e-01,  9.00915265e-01],\n",
       "         ...,\n",
       "         [ 4.96422976e-01,  5.51991463e-01, -6.83596492e-01],\n",
       "         [-1.31883609e+00,  9.01181638e-01, -4.03839648e-02],\n",
       "         [-6.01862907e-01,  1.02004468e+00, -9.88248289e-01]],\n",
       "\n",
       "        [[-2.80992717e-01, -8.17070305e-02, -2.66769767e+00],\n",
       "         [ 1.27082276e+00,  2.64687777e-01,  1.91519335e-01],\n",
       "         [ 1.56112158e+00, -4.09641594e-01,  5.27501404e-01],\n",
       "         ...,\n",
       "         [ 1.01337535e-02, -7.65225291e-01,  6.01625219e-02],\n",
       "         [ 1.93607318e+00,  4.84329164e-01,  8.99163604e-01],\n",
       "         [ 1.64506793e+00, -1.13929141e+00, -8.17610979e-01]]],\n",
       "\n",
       "\n",
       "       [[[ 7.05359638e-01,  2.04012561e+00,  2.37919405e-01],\n",
       "         [-7.40687490e-01, -6.64263308e-01,  1.60271597e+00],\n",
       "         [-2.82538712e-01,  5.57596564e-01,  1.47726691e+00],\n",
       "         ...,\n",
       "         [-2.88352072e-01,  1.05313301e+00,  8.16453040e-01],\n",
       "         [ 8.58341992e-01, -1.51502144e+00,  5.56906402e-01],\n",
       "         [-1.24814308e+00,  8.47710371e-01,  2.07379794e+00]],\n",
       "\n",
       "        [[-1.13606727e+00,  2.71960378e-01, -1.99761558e-02],\n",
       "         [-1.10574210e+00,  6.09530926e-01, -1.73175007e-01],\n",
       "         [ 4.38229620e-01,  4.50660080e-01, -9.26330149e-01],\n",
       "         ...,\n",
       "         [ 1.03240037e+00,  6.97893202e-01,  2.30736628e-01],\n",
       "         [ 4.37798172e-01,  3.69556367e-01, -2.13274956e-02],\n",
       "         [ 1.16890919e+00,  8.73254240e-01,  1.03392020e-01]],\n",
       "\n",
       "        [[ 2.76166081e+00, -1.55592072e+00,  7.84301311e-02],\n",
       "         [-1.73508063e-01,  6.44480765e-01,  2.67450482e-01],\n",
       "         [ 1.05604539e-02, -3.42386663e-01,  6.79147989e-02],\n",
       "         ...,\n",
       "         [ 2.10681772e+00,  3.41325819e-01, -9.37782645e-01],\n",
       "         [ 1.38390422e+00, -7.73705482e-01, -3.07925791e-02],\n",
       "         [ 3.39037389e-01,  1.20854747e+00, -5.45535088e-01]],\n",
       "\n",
       "        ...,\n",
       "\n",
       "        [[-6.30432844e-01,  2.85798025e+00,  4.03770536e-01],\n",
       "         [ 7.11435795e-01,  1.33490813e+00, -6.28758967e-01],\n",
       "         [-6.44839585e-01,  1.88785994e+00, -1.24157798e+00],\n",
       "         ...,\n",
       "         [-5.74787021e-01, -5.92878640e-01,  1.35928416e+00],\n",
       "         [ 7.68997014e-01, -8.24920416e-01, -9.36707139e-01],\n",
       "         [-9.59934056e-01, -1.18798721e+00, -8.02697837e-01]],\n",
       "\n",
       "        [[ 6.59897625e-01, -3.31247538e-01,  1.70846015e-01],\n",
       "         [-7.05069840e-01, -9.51459944e-01,  3.82015795e-01],\n",
       "         [-1.31581151e+00, -6.35154128e-01,  1.49708033e+00],\n",
       "         ...,\n",
       "         [-2.16952181e+00,  3.56162965e-01,  8.77459824e-01],\n",
       "         [ 9.89560366e-01,  1.57211080e-01,  4.66637164e-01],\n",
       "         [ 7.04474688e-01, -1.20548286e-01,  7.29351819e-01]],\n",
       "\n",
       "        [[-7.58845747e-01, -1.05509365e+00,  1.22877765e+00],\n",
       "         [ 1.27843487e+00, -2.09659219e+00,  4.57279593e-01],\n",
       "         [ 9.64625835e-01,  7.62743056e-01,  6.12635911e-01],\n",
       "         ...,\n",
       "         [ 1.75952065e+00,  5.51212847e-01, -1.48376727e+00],\n",
       "         [ 8.22714269e-01, -6.15375698e-01, -7.46215954e-02],\n",
       "         [ 2.09082556e+00, -7.56026089e-01, -1.27464962e+00]]],\n",
       "\n",
       "\n",
       "       [[[ 2.34158501e-01, -2.45577976e-01,  4.09209281e-01],\n",
       "         [ 1.15104087e-01, -1.54260480e+00, -1.55753553e+00],\n",
       "         [-7.91686237e-01,  6.94307566e-01,  1.24741584e-01],\n",
       "         ...,\n",
       "         [ 3.98821175e-01, -6.57819152e-01, -8.71526822e-03],\n",
       "         [-8.69640291e-01,  2.45392136e-02,  5.43363802e-02],\n",
       "         [ 1.34855345e-01,  5.00178516e-01,  2.43115947e-01]],\n",
       "\n",
       "        [[-8.15821052e-01,  7.72173047e-01,  8.91805142e-02],\n",
       "         [-8.51977468e-01, -6.14670157e-01,  6.34357452e-01],\n",
       "         [ 9.24006104e-02,  1.92465448e+00,  1.42171752e+00],\n",
       "         ...,\n",
       "         [ 1.22100584e-01,  6.49315000e-01, -7.34833956e-01],\n",
       "         [ 3.34061950e-01,  8.50973308e-01,  1.78709313e-01],\n",
       "         [ 5.17336279e-02, -8.02656770e-01,  2.46974707e+00]],\n",
       "\n",
       "        [[-2.80199200e-01, -6.63042903e-01,  3.90218586e-01],\n",
       "         [ 1.05577588e+00,  3.93392026e-01, -4.25427228e-01],\n",
       "         [ 1.56618893e+00,  7.40604460e-01, -3.48126203e-01],\n",
       "         ...,\n",
       "         [ 1.40285408e+00, -3.65304619e-01,  1.23635113e+00],\n",
       "         [ 2.23975271e-01, -1.35673261e+00, -4.44526166e-01],\n",
       "         [-6.54706538e-01, -1.14074934e+00, -2.62043953e+00]],\n",
       "\n",
       "        ...,\n",
       "\n",
       "        [[ 1.29277003e+00, -2.78422862e-01,  1.01594877e+00],\n",
       "         [ 8.91061902e-01, -1.89365458e+00,  1.67202011e-01],\n",
       "         [-7.33064473e-01, -1.17406631e+00, -1.34248281e+00],\n",
       "         ...,\n",
       "         [ 1.06238782e+00, -6.17965817e-01, -8.60764682e-01],\n",
       "         [ 8.66941273e-01, -1.44763339e+00, -1.62532008e+00],\n",
       "         [ 9.26540140e-03,  7.27644920e-01, -1.31293082e+00]],\n",
       "\n",
       "        [[-1.41363025e+00,  1.39404678e+00,  1.25834978e+00],\n",
       "         [-8.29667449e-01,  2.61383712e-01, -2.59244823e+00],\n",
       "         [-1.72449410e+00,  2.63568968e-01,  9.95373130e-02],\n",
       "         ...,\n",
       "         [ 9.90063965e-01,  2.51057744e-01,  1.11386168e+00],\n",
       "         [ 4.50073421e-01,  1.82848191e+00,  1.16831765e-01],\n",
       "         [-3.37157488e-01,  1.83855936e-01, -1.21340203e+00]],\n",
       "\n",
       "        [[ 1.81242287e+00, -3.43657523e-01, -1.46452653e+00],\n",
       "         [ 1.13069570e+00,  1.28356564e+00, -5.10954559e-01],\n",
       "         [ 2.28334889e-01,  1.71451151e+00, -1.07371056e+00],\n",
       "         ...,\n",
       "         [ 1.64542615e+00, -5.90179682e-01, -1.28518546e+00],\n",
       "         [-3.61427337e-01,  2.37663519e-02, -1.49745390e-01],\n",
       "         [-1.78754199e+00,  1.03506410e+00, -7.87194908e-01]]],\n",
       "\n",
       "\n",
       "       ...,\n",
       "\n",
       "\n",
       "       [[[ 6.15224242e-01, -1.54838514e+00,  4.25351769e-01],\n",
       "         [ 5.07001281e-01, -5.20559847e-01, -9.68189538e-02],\n",
       "         [ 1.69015471e-02, -1.26791322e+00,  8.40276957e-01],\n",
       "         ...,\n",
       "         [-2.72357970e-01,  1.53929758e+00,  4.90814477e-01],\n",
       "         [-4.89013612e-01, -2.19119444e-01,  1.75438714e+00],\n",
       "         [-9.83176410e-01,  5.63855648e-01,  1.48746455e+00]],\n",
       "\n",
       "        [[-1.09551513e+00,  6.58365861e-02,  4.67852324e-01],\n",
       "         [-7.13737071e-01, -1.29290068e+00, -8.13687921e-01],\n",
       "         [-1.22097147e+00,  1.18620884e+00,  7.25826621e-01],\n",
       "         ...,\n",
       "         [-6.49665356e-01, -4.63391781e-01,  7.02811420e-01],\n",
       "         [ 4.29165304e-01, -4.78827953e-01, -6.49156630e-01],\n",
       "         [ 5.49513459e-01, -1.78558394e-01, -1.13275516e+00]],\n",
       "\n",
       "        [[ 1.87487513e-01,  4.20663267e-01, -2.06423134e-01],\n",
       "         [ 1.79799032e+00,  1.89584816e+00, -4.84360158e-01],\n",
       "         [-3.26983750e-01,  2.67762160e+00,  1.46684051e-01],\n",
       "         ...,\n",
       "         [ 2.33455658e-01,  9.97569919e-01,  8.28996420e-01],\n",
       "         [-3.45638782e-01,  8.01185071e-01, -4.65162247e-01],\n",
       "         [ 9.15513337e-01,  4.80547965e-01, -1.44491005e+00]],\n",
       "\n",
       "        ...,\n",
       "\n",
       "        [[ 6.58933938e-01,  1.65214050e+00,  9.18222964e-02],\n",
       "         [-6.00333989e-01, -7.55236387e-01, -7.00600564e-01],\n",
       "         [-9.75547493e-01, -3.97590548e-01,  7.77573287e-01],\n",
       "         ...,\n",
       "         [-8.30895230e-02, -1.34405220e+00,  8.84761512e-01],\n",
       "         [ 1.03651136e-01,  2.45678246e-01, -9.64677691e-01],\n",
       "         [ 3.80473644e-01, -1.09141119e-01, -8.32297564e-01]],\n",
       "\n",
       "        [[-6.41215920e-01,  1.36762667e+00, -7.44222105e-01],\n",
       "         [ 1.78906465e+00, -2.58955073e+00, -8.44132006e-02],\n",
       "         [ 1.36349249e+00,  3.21238369e-01, -3.23786080e-01],\n",
       "         ...,\n",
       "         [ 2.33744398e-01,  1.00603390e+00,  2.14881048e-01],\n",
       "         [ 6.89568758e-01, -7.02928528e-02,  1.51421237e+00],\n",
       "         [-1.02193570e+00,  5.54433763e-01,  6.30942166e-01]],\n",
       "\n",
       "        [[ 1.02646077e+00,  4.61534500e-01,  3.73127103e-01],\n",
       "         [-1.82677221e+00, -2.33441845e-01,  3.28943282e-01],\n",
       "         [-2.02992272e+00, -1.70065796e+00, -1.62335381e-01],\n",
       "         ...,\n",
       "         [-1.65902115e-02,  1.05016351e+00, -1.09432220e+00],\n",
       "         [ 6.39692843e-02, -2.52319425e-01, -8.50474656e-01],\n",
       "         [ 1.62054539e+00, -8.44606400e-01, -8.15581262e-01]]],\n",
       "\n",
       "\n",
       "       [[[-2.01028466e+00,  3.25587898e-01, -6.95474744e-01],\n",
       "         [ 8.25822055e-01,  3.69578570e-01, -1.90648282e+00],\n",
       "         [ 2.53716439e-01, -3.35976005e-01,  2.14342609e-01],\n",
       "         ...,\n",
       "         [-1.02966821e+00,  1.07606530e+00, -1.04900002e+00],\n",
       "         [-1.34183788e+00, -1.77632406e-01,  5.61774010e-03],\n",
       "         [-1.45747054e+00,  3.21292132e-01,  9.67470467e-01]],\n",
       "\n",
       "        [[ 1.55067492e+00, -2.34052494e-01, -1.91161442e+00],\n",
       "         [ 1.58732283e+00, -6.78678215e-01, -1.03542197e+00],\n",
       "         [-7.76562870e-01,  1.03954935e+00, -1.78001210e-01],\n",
       "         ...,\n",
       "         [ 6.26062691e-01,  1.00860536e+00, -3.19644250e-02],\n",
       "         [ 3.81424695e-01,  5.89784205e-01, -9.62957025e-01],\n",
       "         [ 3.54654461e-01, -9.69052672e-01, -2.20364407e-01]],\n",
       "\n",
       "        [[-5.35314620e-01,  3.42778489e-02, -1.33150071e-01],\n",
       "         [ 8.94780308e-02, -7.78457522e-01, -7.70482242e-01],\n",
       "         [-1.11373675e+00,  1.02216804e+00,  5.48679829e-01],\n",
       "         ...,\n",
       "         [ 1.74082911e+00,  9.15805176e-02, -1.31212166e-02],\n",
       "         [ 2.06055522e-01, -3.55908453e-01, -2.74028957e-01],\n",
       "         [-1.80713987e+00,  8.34089696e-01,  1.79028010e+00]],\n",
       "\n",
       "        ...,\n",
       "\n",
       "        [[ 9.56768334e-01, -5.99231243e-01, -6.65470481e-01],\n",
       "         [-1.85823309e+00, -1.43091343e-02,  1.18032293e-02],\n",
       "         [-7.85248160e-01,  2.95043230e-01, -3.65180582e-01],\n",
       "         ...,\n",
       "         [ 3.33915442e-01, -2.69381493e-01, -1.41809449e-01],\n",
       "         [ 9.00578499e-01, -1.21154273e+00,  2.63350105e+00],\n",
       "         [ 1.03671134e+00, -6.13133311e-02, -2.97972441e+00]],\n",
       "\n",
       "        [[-6.64656579e-01, -3.14965987e+00, -2.98909163e+00],\n",
       "         [ 2.76478982e+00, -2.02534482e-01, -2.78990030e-01],\n",
       "         [-1.15754688e+00,  1.19109303e-01, -1.79361284e-01],\n",
       "         ...,\n",
       "         [-1.74022928e-01, -5.72504401e-01, -2.84228593e-01],\n",
       "         [-2.87933469e-01, -3.29967797e-01,  9.17130351e-01],\n",
       "         [ 4.97301251e-01, -1.13881600e+00, -9.64279413e-01]],\n",
       "\n",
       "        [[ 1.93727508e-01,  8.45441937e-01,  2.73148902e-02],\n",
       "         [ 1.81454206e+00, -1.01669349e-01, -2.20112726e-01],\n",
       "         [-2.45538116e-01, -1.08302164e+00, -1.42097926e+00],\n",
       "         ...,\n",
       "         [-1.74085557e+00, -2.75611561e-02,  1.98519444e+00],\n",
       "         [ 8.26721132e-01,  1.01464391e+00,  9.55870211e-01],\n",
       "         [-7.99321234e-01, -1.06673706e+00, -1.55759537e+00]]],\n",
       "\n",
       "\n",
       "       [[[ 1.08948581e-01,  7.74681091e-01, -1.73096025e+00],\n",
       "         [ 3.72438878e-02,  9.26656783e-01,  3.22568864e-01],\n",
       "         [-1.60048187e+00, -7.48092115e-01,  2.42537215e-01],\n",
       "         ...,\n",
       "         [ 1.44540787e+00, -1.45056462e+00, -1.54628825e+00],\n",
       "         [ 5.26272833e-01, -3.57104242e-01, -7.78855741e-01],\n",
       "         [ 3.87486726e-01, -9.22095597e-01,  6.66131735e-01]],\n",
       "\n",
       "        [[-7.59116113e-02,  1.27150595e-01, -9.43558156e-01],\n",
       "         [ 1.41072422e-01, -8.98814678e-01, -1.13513744e+00],\n",
       "         [ 6.40000343e-01,  1.02367043e+00,  2.14710641e+00],\n",
       "         ...,\n",
       "         [-6.42048001e-01,  7.38701463e-01, -1.29931593e+00],\n",
       "         [-1.23720777e+00, -5.62443554e-01,  1.92981386e+00],\n",
       "         [ 1.49516082e+00,  1.08247168e-01,  7.15768605e-04]],\n",
       "\n",
       "        [[ 1.79677320e+00, -1.22413409e+00,  8.15598294e-04],\n",
       "         [-4.29459326e-02, -4.26217943e-01,  2.23037496e-01],\n",
       "         [ 3.80748928e-01, -3.43474448e-01,  1.52700293e+00],\n",
       "         ...,\n",
       "         [-1.22311234e+00,  1.53891742e+00, -3.16096663e-01],\n",
       "         [ 3.87675852e-01, -7.28394032e-01,  8.70868385e-01],\n",
       "         [-1.23683500e+00, -1.50403392e+00, -8.13388705e-01]],\n",
       "\n",
       "        ...,\n",
       "\n",
       "        [[ 2.55881453e+00,  1.82235405e-01, -6.30684853e-01],\n",
       "         [-2.69812942e+00,  5.74376702e-01, -4.72934633e-01],\n",
       "         [-4.98954535e-01, -8.60098720e-01, -1.27340794e+00],\n",
       "         ...,\n",
       "         [-9.92666900e-01, -5.16715825e-01, -4.88714248e-01],\n",
       "         [ 1.24937868e+00, -1.77636528e+00, -4.07537162e-01],\n",
       "         [-6.18240237e-01, -1.85228288e+00,  4.73377585e-01]],\n",
       "\n",
       "        [[-4.76636380e-01,  1.08018672e+00, -7.21236408e-01],\n",
       "         [ 9.14529562e-01,  5.64473689e-01,  1.56884357e-01],\n",
       "         [-1.85878611e+00, -6.61512196e-01,  5.70668399e-01],\n",
       "         ...,\n",
       "         [ 1.07875025e+00, -4.91398573e-02,  1.01847827e+00],\n",
       "         [-1.11268032e+00, -1.06978393e+00,  1.13913727e+00],\n",
       "         [-7.89647639e-01, -4.96173799e-01, -8.20183635e-01]],\n",
       "\n",
       "        [[ 2.12406740e-01, -5.49782142e-02,  8.19843709e-02],\n",
       "         [-1.79053605e-01,  7.62333810e-01,  1.68458605e+00],\n",
       "         [ 5.90289891e-01, -1.07022476e+00, -6.35825470e-02],\n",
       "         ...,\n",
       "         [-9.15839195e-01, -3.16268951e-01, -1.13541126e+00],\n",
       "         [ 1.39456391e-01, -5.58147609e-01,  1.64223295e-02],\n",
       "         [-9.24402699e-02,  1.67740679e+00,  3.25587213e-01]]]],\n",
       "      dtype=float32)>"
      ]
     },
     "execution_count": 275,
     "metadata": {},
     "output_type": "execute_result"
    }
   ],
   "source": [
    "noise2"
   ]
  },
  {
   "cell_type": "code",
   "execution_count": null,
   "id": "057ac89e",
   "metadata": {},
   "outputs": [],
   "source": []
  }
 ],
 "metadata": {
  "kernelspec": {
   "display_name": "Python 3 (ipykernel)",
   "language": "python",
   "name": "python3"
  },
  "language_info": {
   "codemirror_mode": {
    "name": "ipython",
    "version": 3
   },
   "file_extension": ".py",
   "mimetype": "text/x-python",
   "name": "python",
   "nbconvert_exporter": "python",
   "pygments_lexer": "ipython3",
   "version": "3.9.9"
  }
 },
 "nbformat": 4,
 "nbformat_minor": 5
}
