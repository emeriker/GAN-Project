{
 "cells": [
  {
   "cell_type": "code",
   "execution_count": 1,
   "id": "d4c676b9",
   "metadata": {},
   "outputs": [],
   "source": [
    "from gan import GAN\n",
    "from Models import discriminiator, generator\n",
    "from Datas import data_loader"
   ]
  },
  {
   "cell_type": "code",
   "execution_count": null,
   "id": "f83d3c6b",
   "metadata": {},
   "outputs": [],
   "source": [
    "def workflow():\n",
    "    epochs = 5000\n",
    "    x_pixels = 32\n",
    "    y_pixels = 32\n",
    "    num_examples_to_generate = 16\n",
    "    seed = 2022\n",
    "    batch_size = 32\n",
    "    \n",
    "    data_dir = \"C:/Users/emeri/data/DogImages\"\n",
    "\n",
    "    train_dataset, val_dataset = data_loader.load_image_dir_dataset(data_dir, x_pixels, y_pixels)\n",
    "\n",
    "    model_gen = generator.get_model_generator(x_pixels, y_pixels)\n",
    "    model_disc = discriminiator.get_model_discriminator(x_pixels, y_pixels)\n",
    "\n",
    "    gan = GAN()\n",
    "\n",
    "    gan.set_training_hyper_params(epochs, num_examples_to_generate, x_pixels, y_pixels, batch_size, seed)\n",
    "    \n",
    "    gan.set_images_dataset(train_dataset, val_dataset)\n",
    "    \n",
    "    gan.set_discriminator_model(model_disc)\n",
    "    gan.set_generator_model(model_gen)\n",
    "\n",
    "    gan.train()"
   ]
  },
  {
   "cell_type": "code",
   "execution_count": null,
   "id": "0d934fd7",
   "metadata": {},
   "outputs": [],
   "source": [
    "workflow()"
   ]
  },
  {
   "cell_type": "code",
   "execution_count": null,
   "id": "21dc4462",
   "metadata": {},
   "outputs": [],
   "source": []
  },
  {
   "cell_type": "code",
   "execution_count": null,
   "id": "d25d25fd",
   "metadata": {},
   "outputs": [],
   "source": []
  },
  {
   "cell_type": "code",
   "execution_count": null,
   "id": "cfcd6892",
   "metadata": {},
   "outputs": [],
   "source": []
  }
 ],
 "metadata": {
  "kernelspec": {
   "display_name": "Python 3 (ipykernel)",
   "language": "python",
   "name": "python3"
  },
  "language_info": {
   "codemirror_mode": {
    "name": "ipython",
    "version": 3
   },
   "file_extension": ".py",
   "mimetype": "text/x-python",
   "name": "python",
   "nbconvert_exporter": "python",
   "pygments_lexer": "ipython3",
   "version": "3.9.9"
  }
 },
 "nbformat": 4,
 "nbformat_minor": 5
}
